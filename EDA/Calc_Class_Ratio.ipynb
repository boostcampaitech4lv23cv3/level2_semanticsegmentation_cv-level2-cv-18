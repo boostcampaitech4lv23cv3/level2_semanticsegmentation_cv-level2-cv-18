{
 "cells": [
  {
   "cell_type": "code",
   "execution_count": 2,
   "metadata": {},
   "outputs": [],
   "source": [
    "import os\n",
    "import random\n",
    "import time\n",
    "import json\n",
    "import warnings \n",
    "warnings.filterwarnings('ignore')\n",
    "\n",
    "import numpy as np\n",
    "import pandas as pd\n",
    "from tqdm import tqdm\n",
    "from pycocotools.coco import COCO\n",
    "import cv2\n",
    "import albumentations as A\n",
    "\n",
    "# 시각화를 위한 라이브러리\n",
    "import matplotlib.pyplot as plt\n",
    "import seaborn as sns; sns.set()\n",
    "from matplotlib.patches import Patch\n",
    "import sys\n",
    "sys.path.append('../smp/')\n",
    "from data_loader import *\n",
    "from utils import *\n",
    "from tqdm import tqdm"
   ]
  },
  {
   "cell_type": "code",
   "execution_count": 3,
   "metadata": {},
   "outputs": [
    {
     "name": "stdout",
     "output_type": "stream",
     "text": [
      "loading annotations into memory...\n",
      "Done (t=4.62s)\n",
      "creating index...\n",
      "index created!\n"
     ]
    }
   ],
   "source": [
    "dataset_path  = '/opt/ml/input/data'\n",
    "anns_file_path = dataset_path + '/' + 'train_all.json'\n",
    "config_path = '../smp/config.json'\n",
    "global_config = load_json(config_path)\n",
    "train_transform = A.Compose([\n",
    "                        # ToTensorV2()\n",
    "                        ])\n",
    "train_dataset = BaseDataset(dataset_path=dataset_path, mode='train', transform=train_transform, global_config = global_config)"
   ]
  },
  {
   "cell_type": "code",
   "execution_count": 4,
   "metadata": {},
   "outputs": [
    {
     "name": "stderr",
     "output_type": "stream",
     "text": [
      "100%|██████████| 2617/2617 [00:51<00:00, 50.67it/s]\n"
     ]
    }
   ],
   "source": [
    "hists = []\n",
    "for idx in tqdm(range(len(train_dataset))):\n",
    "    mask = np.array(train_dataset[idx][1], np.uint8)\n",
    "    hist = cv2.calcHist([mask],[0], mask=None, histSize=[11], ranges=[0,11])\n",
    "    hist = hist.squeeze()\n",
    "    hists.append(hist)"
   ]
  },
  {
   "cell_type": "code",
   "execution_count": 5,
   "metadata": {},
   "outputs": [
    {
     "name": "stdout",
     "output_type": "stream",
     "text": [
      "<class 'numpy.ndarray'>\n",
      "<class 'numpy.float32'>\n",
      "[4.7788720e+08 1.5475035e+07 6.2123852e+07 4.9005330e+06 6.1616410e+06\n",
      " 5.2640800e+06 1.9775412e+07 1.0351425e+07 8.0124008e+07 3.1722700e+05\n",
      " 3.6506180e+06]\n",
      "686031100.0\n",
      "[   1.44   44.33   11.04  139.99  111.34  130.32   34.69   66.27    8.56\n",
      " 2162.59  187.92]\n"
     ]
    }
   ],
   "source": [
    "hist_array = np.array(hists, np.float32)\n",
    "hist_all = hist_array.sum(axis=0)\n",
    "total = hist_all.sum()\n",
    "print(type(hist_all))\n",
    "print(type(total))\n",
    "print(hist_all)\n",
    "print(total)\n",
    "hist_ratio = hist_all/total\n",
    "with np.printoptions(precision=2, suppress=True):\n",
    "    print(1./hist_ratio)"
   ]
  },
  {
   "cell_type": "code",
   "execution_count": 12,
   "metadata": {},
   "outputs": [
    {
     "name": "stdout",
     "output_type": "stream",
     "text": [
      "array([0.0007, 0.0205, 0.0051, 0.0647, 0.0515, 0.0603, 0.016 , 0.0306,\n",
      "       0.004 , 1.    , 0.0869], dtype=float32)\n"
     ]
    }
   ],
   "source": [
    "def softmax(x):\n",
    "    e_x = np.exp(x - np.max(x))\n",
    "    return e_x / e_x.sum()\n",
    "\n",
    "alpha = (1./hist_ratio)\n",
    "alpha = alpha / np.max(alpha)\n",
    "with np.printoptions(precision=4, suppress=True):\n",
    "    print(repr(alpha))\n"
   ]
  }
 ],
 "metadata": {
  "kernelspec": {
   "display_name": "level2_semanticsegmentation-WQ1u8ilH",
   "language": "python",
   "name": "python3"
  },
  "language_info": {
   "codemirror_mode": {
    "name": "ipython",
    "version": 3
   },
   "file_extension": ".py",
   "mimetype": "text/x-python",
   "name": "python",
   "nbconvert_exporter": "python",
   "pygments_lexer": "ipython3",
   "version": "3.8.5"
  },
  "orig_nbformat": 4,
  "vscode": {
   "interpreter": {
    "hash": "c8736f0f9ef50493318d60daa91f24326cec5a987335b1bde14d7e909a6cb1d3"
   }
  }
 },
 "nbformat": 4,
 "nbformat_minor": 2
}
